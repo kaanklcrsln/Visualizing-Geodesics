{
 "cells": [
  {
   "cell_type": "code",
   "execution_count": 29,
   "id": "64a396ba-a495-4a7c-a180-36380039d5d4",
   "metadata": {},
   "outputs": [],
   "source": [
    "from pyvis.network import Network\n",
    "import networkx as nx"
   ]
  },
  {
   "cell_type": "code",
   "execution_count": 31,
   "id": "a2cee47e-c5e2-47f3-b6cc-3fdc232461de",
   "metadata": {},
   "outputs": [
    {
     "name": "stdout",
     "output_type": "stream",
     "text": [
      "Warning: When  cdn_resources is 'local' jupyter notebook has issues displaying graphics on chrome/safari. Use cdn_resources='in_line' or cdn_resources='remote' if you have issues viewing graphics in a notebook.\n"
     ]
    }
   ],
   "source": [
    "G = nx.karate_club_graph()\n",
    "\n",
    "net = Network(notebook=True)\n",
    "net.from_nx(G)"
   ]
  },
  {
   "cell_type": "code",
   "execution_count": 33,
   "id": "09b04116-044c-44b5-973d-a5bf2309c85e",
   "metadata": {},
   "outputs": [],
   "source": [
    "source, target = 0, 33\n",
    "geodesic = nx.shortest_path(G, source=source, target=target)\n"
   ]
  },
  {
   "cell_type": "code",
   "execution_count": 35,
   "id": "0b1f6c07-4d14-49a3-b843-2eb5b0ca5ccb",
   "metadata": {},
   "outputs": [
    {
     "name": "stdout",
     "output_type": "stream",
     "text": [
      "karate_club_geodesic.html\n"
     ]
    },
    {
     "data": {
      "text/html": [
       "\n",
       "        <iframe\n",
       "            width=\"100%\"\n",
       "            height=\"600px\"\n",
       "            src=\"karate_club_geodesic.html\"\n",
       "            frameborder=\"0\"\n",
       "            allowfullscreen\n",
       "            \n",
       "        ></iframe>\n",
       "        "
      ],
      "text/plain": [
       "<IPython.lib.display.IFrame at 0x15e6f717fe0>"
      ]
     },
     "execution_count": 35,
     "metadata": {},
     "output_type": "execute_result"
    }
   ],
   "source": [
    "for node in geodesic:\n",
    "    net.get_node(node)['color'] = 'red'  # Geodesic düğümleri kırmızıya boyama\n",
    "\n",
    "net.show(\"karate_club_geodesic.html\")"
   ]
  },
  {
   "cell_type": "code",
   "execution_count": null,
   "id": "71b504dd-1c76-41ed-9178-98cb9c589f4c",
   "metadata": {},
   "outputs": [],
   "source": []
  },
  {
   "cell_type": "code",
   "execution_count": null,
   "id": "c74bfdb4-855f-4756-8fa9-416540065fee",
   "metadata": {},
   "outputs": [],
   "source": []
  }
 ],
 "metadata": {
  "kernelspec": {
   "display_name": "Python [conda env:base] *",
   "language": "python",
   "name": "conda-base-py"
  },
  "language_info": {
   "codemirror_mode": {
    "name": "ipython",
    "version": 3
   },
   "file_extension": ".py",
   "mimetype": "text/x-python",
   "name": "python",
   "nbconvert_exporter": "python",
   "pygments_lexer": "ipython3",
   "version": "3.12.7"
  }
 },
 "nbformat": 4,
 "nbformat_minor": 5
}
